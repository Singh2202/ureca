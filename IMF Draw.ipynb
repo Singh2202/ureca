{
 "cells": [
  {
   "cell_type": "markdown",
   "id": "ec0b7f1f",
   "metadata": {},
   "source": [
    "# Drawing Stellar Populations from IMFs"
   ]
  },
  {
   "cell_type": "markdown",
   "id": "a535c7a7",
   "metadata": {},
   "source": [
    "## Context \n",
    "\n",
    "The IMF tells us about the relative frequencies of stars of various masses in linear mass space. We normalize the initial mass function (IMF) as a probability density function (pdf).  For functions normalized as a pdf we use the symbol $p(m)$. The standard normalization condition for a probability is $1 = \\int_{m_l}^{m_u} p(m)dm$, where $m_l$ and $m_u$ are the lower and upper mass limit, respectively. In particular, we take up here three functional forms of the IMF: Salpeter (1955), Kroupa (2001), and Chabrier (2003). In all cases, $A$ represents a global normalization constant:\n",
    "\n",
    "$$p_{\\text{Salpeter}}(m) = Am^{-2.35}$$\n",
    "\n",
    " ---\n",
    " \n",
    "$$p_{\\text{Kroupa}}(m) = \\begin{cases} \n",
    "      Ak_0m^{-0.3} & 0.01M_\\odot< m<0.08M_\\odot\\ \\\\\n",
    "      Ak_1m^{-1.3} & 0.08M_\\odot< m<0.5M_\\odot\\ \\\\\n",
    "      Ak_2m^{-2.3} & 0.5M_\\odot< m<1M_\\odot\\ \\\\\n",
    "      Ak_3m^{-2.3} & 1M_\\odot< m<(150M_\\odot)\n",
    "   \\end{cases}$$\n",
    "\n",
    "with $k_0 = 1$, $k_1 = k_0m_1^{-0.3+1.3}$, $k_2 = k_1m_2^{-1.3+2.3}$ and $k_3 = k_2m_3^{-2.3+2.3}(=k_2)$ where $m_1 = 0.08M_\\odot$, $m_2 = 0.5M_\\odot$, and $m_3 = 1M_\\odot$. The reason that the last two branches are not combined is because the exponents have different uncertainities in the original paper, but for the purposes of subsequent calculations, we combine them into one branch applying over $0.5 M_{\\odot} < m < (150M_\\odot)$.\n",
    "  \n",
    "   \n",
    " ---\n",
    " \n",
    "$$p_{\\text{Chabrier}}(m) = \\begin{cases} \n",
    "      Ak_1\\frac{1}{m}e^{\\frac{1}{2}\\left(\\frac{\\log_{10}m - \\log_{10}0.079}{0.69}\\right)^2} & 0.01M_\\odot< m<1M_\\odot\\ \\\\\n",
    "      Ak_2m^{-2.3} & 1M_\\odot< m<(150M_\\odot)\n",
    "   \\end{cases}$$\n",
    "  with $k_1 = 0.158$ and $k_2 = 0.0443$.\n",
    "\n",
    "---\n",
    "(All of the above taken from https://doi.org/10.1093/mnras/sts479)\n",
    "\n",
    "## Our Problem\n",
    "\n",
    "Given some stellar suface density $\\Sigma_{*}$ and some area in the sky $A$, we want to populate $A$ with stars having having masses drawn according to some IMF.\n",
    "\n",
    "with $k_0 = 1$, $k_1 = k_0m_1^{-0.3+1.3}$, $k_2 = k_1m_2^{-1.3+2.3}$ and $k_3 = k_2m_3^{-2.3+2.3}(=k_2)$ where $m_1 = 0.08M_\\odot$, $m_2 = 0.5M_\\odot$, and $m_3 = 1M_\\odot$. The reason that the last two branches are not combined is because the exponents have different uncertainities in the original paper, but for the purposes of subsequent calculations, we combine them into one branch applying over $0.5 M_{\\odot} < m < (150M_\\odot)$."
   ]
  },
  {
   "cell_type": "markdown",
   "id": "40789e0b",
   "metadata": {},
   "source": [
    "### Step 1: Normalize\n",
    "\n",
    "Let's take the Salpeter case as an example. The mass range over which the Salpeter IMF is applicable is not clear, but we adopt the commonly used $0.1 M_{\\odot} < m < 100 M_{\\odot}$ (https://doi.org/10.1017/pasa.2018.29). We use $\\texttt{scipy.integrate.quad}$ to obtain numerically that $\\int_{0.1 M_{\\odot}}^{100 M_{\\odot}} m^{-2.35} = 16.58$. From the condition that $1 = \\int_{m_l}^{m_u} p(m)dm$, then, we obtain that $A = \\frac{1}{16.58}$."
   ]
  },
  {
   "cell_type": "code",
   "execution_count": 1,
   "id": "896dc089",
   "metadata": {},
   "outputs": [],
   "source": [
    "import numpy as np\n",
    "from scipy.integrate import quad \n",
    "\n",
    "def unnormalized_salpeter(m):\n",
    "    return m ** -2.35\n",
    "\n",
    "m_min_salpeter = 0.1\n",
    "m_max_salpeter = 100\n",
    "\n",
    "unnormalized_salpeter_integral = quad(unnormalized_salpeter, m_min_salpeter, m_max_salpeter)\n",
    "A_salpeter = 1 / unnormalized_salpeter_integral[0]\n",
    "\n",
    "def unnormalized_kroupa(m):\n",
    "    m_min = 0.01\n",
    "    m_1 = 0.08\n",
    "    m_2 = 0.5\n",
    "    m_max = 150\n",
    "    k_0 = 1\n",
    "    k_1 = k_0 * m_1 ** (-0.3 + 1.3)\n",
    "    k_2 = k_1 * m_2 ** (-1.3 + 2.3)\n",
    "    if (m_min <= m) and (m < m_1):\n",
    "        return k_0 * m ** -0.3\n",
    "    elif (m_1 <= m) and (m < m_2):\n",
    "        return k_1 * m ** -1.3\n",
    "    elif (m_2 <= m) and (m <= m_max):\n",
    "        return k_2 * m ** (-2.3)\n",
    "\n",
    "m_min_kroupa = 0.01\n",
    "m_max_kroupa = 150\n",
    "\n",
    "unnormalized_kroupa_integral = quad(unnormalized_kroupa, m_min_kroupa, m_max_kroupa)\n",
    "A_kroupa = 1 / unnormalized_kroupa_integral[0]\n",
    "\n",
    "def unnormalized_chabrier(m):\n",
    "    m_min = 0.01\n",
    "    m_1 = 1\n",
    "    m_max = 150\n",
    "    k_1 = 0.158\n",
    "    k_2 = 0.0443\n",
    "    if (m_min <= m) and (m <= m_1):\n",
    "        return k_1 * (1 /m) * np.exp((1 / 2) * ((np.log10(m) - np.log10(0.079)) / 0.69) ** 2)\n",
    "    elif (m_1 < m) and (m <= m_max):\n",
    "        return k_2 * m ** (-2.3)\n",
    "    \n",
    "m_min_chabrier = 0.01\n",
    "m_max_chabrier = 150\n",
    "\n",
    "unnormalized_chabrier_integral = quad(unnormalized_chabrier, m_min_chabrier, m_max_chabrier)\n",
    "A_chabrier = 1 / unnormalized_chabrier_integral[0]\n",
    "\n",
    "def normalized_salpeter(m):\n",
    "    return A_salpeter * unnormalized_salpeter(m)\n",
    "\n",
    "def normalized_kroupa(m):\n",
    "    return A_kroupa * unnormalized_kroupa(m)\n",
    "\n",
    "def normalized_chabrier(m):\n",
    "    return A_chabrier * unnormalized_chabrier(m)"
   ]
  },
  {
   "cell_type": "markdown",
   "id": "a8b8f04b",
   "metadata": {},
   "source": [
    "### Step 2(?): Determine Expectation Values of the Mass\n",
    "As usual, the expectation value is the first moment of the distribution, $\\langle m \\rangle = \\int_{m_l}^{m_u} mp(m)dm$."
   ]
  },
  {
   "cell_type": "code",
   "execution_count": 2,
   "id": "64bd51b7",
   "metadata": {},
   "outputs": [],
   "source": [
    "def first_moment_salpter(m):\n",
    "    return m * normalized_salpeter(m)\n",
    "\n",
    "def first_moment_kroupa(m):\n",
    "    return m * normalized_kroupa(m)\n",
    "\n",
    "def first_moment_chabrier(m):\n",
    "    return m * normalized_chabrier(m)\n",
    "\n",
    "m_exp_salpeter = quad(first_moment_salpter, m_min_salpeter, m_max_salpeter)[0]\n",
    "m_exp_kroupa = quad(first_moment_kroupa, m_min_kroupa, m_max_kroupa)[0]\n",
    "m_exp_chabrier = quad(first_moment_chabrier, m_min_chabrier, m_max_chabrier)[0]"
   ]
  },
  {
   "cell_type": "markdown",
   "id": "b75cad0b",
   "metadata": {},
   "source": [
    "### Step 3(?): Determine how many stars we need to populate $A$\n",
    "An area $A$ with stellar suface density $\\Sigma_{*}$ contains $M_{\\text{tot}} = \\Sigma_{*}A$. This is, on average, the total mass of $N = \\frac{M_{\\text{tot}}}{\\langle m \\rangle}$ stars.\n",
    "\n",
    "NOTE: The sample mean mass of the $N$ masses we draw might not be close to the population $\\langle m \\rangle$. This can lead to either an undershoot or overshoot of the mass."
   ]
  },
  {
   "cell_type": "code",
   "execution_count": 3,
   "id": "8b6639d1",
   "metadata": {},
   "outputs": [],
   "source": [
    "def N(sigma, A, imf):\n",
    "    M_tot = sigma * A\n",
    "    if imf == \"salpeter\":\n",
    "        return int(M_tot / m_exp_salpter)\n",
    "    elif imf == \"kroupa\":\n",
    "        return int(M_tot / m_exp_kroupa)\n",
    "    elif imf == \"chabrier\":\n",
    "        return int(M_tot / m_exp_chabrier)"
   ]
  },
  {
   "cell_type": "markdown",
   "id": "beb89abd",
   "metadata": {},
   "source": [
    "### Step 4: Inverse Transform Sampling\n",
    "\n",
    "The task of drawing samples given a pdf is referred to as the *generation of random variates from  a distribution*. The standard method for the generation of random variates is *inverse transform sampling*. \n",
    "\n",
    "The idea is to obtain the cumulative distribution function (cdf) $P(m)$ by integration of the pdf. The cdf takes as input some $m$ and gives the probability $P(M < m) = p$. The inverse cdf, $P^{-1}$, then, takes as input $p$ and returns $m$. But by the definition of a probability, $p \\sim \\text{Unif}(0,1)$, so if we have a method for generating $u$'s, we can sample from any distribution by plugging the $u$'s into its inverse cdf (see further mathematical details here: https://www.columbia.edu/~ks20/4404-Sigman/4404-Notes-ITM.pdf).\n",
    "\n",
    "The below is a numerical implementation of inverse transform sampling from https://github.com/sibirrer/hierArc/blob/905f027909ffee63323a792aab9c670e553aacd5/hierarc/Util/distribution_util.py#L36."
   ]
  },
  {
   "cell_type": "code",
   "execution_count": 4,
   "id": "a41f92d2",
   "metadata": {},
   "outputs": [],
   "source": [
    "from scipy.interpolate import interp1d\n",
    "\n",
    "class PDFSampling(object):\n",
    "    \"\"\"Class for approximations with a given pdf sample.\"\"\"\n",
    "\n",
    "    def __init__(self, bin_edges, pdf_array):\n",
    "        \"\"\"\n",
    "\n",
    "        :param bin_edges: bin edges of PDF values\n",
    "        :param pdf_array: pdf array of given bins (len(bin_edges)-1)\n",
    "        \"\"\"\n",
    "        assert len(bin_edges) == len(pdf_array) + 1\n",
    "        self._cdf_array, self._cdf_func, self._cdf_inv_func = approx_cdf_1d(\n",
    "            bin_edges, pdf_array\n",
    "        )\n",
    "\n",
    "    def draw(self, n=1):\n",
    "        \"\"\"\n",
    "\n",
    "        :return:\n",
    "        \"\"\"\n",
    "        p = np.random.uniform(0, 1, n)\n",
    "        return self._cdf_inv_func(p)\n",
    "\n",
    "    @property\n",
    "    def draw_one(self):\n",
    "        \"\"\"\n",
    "\n",
    "        :return:\n",
    "        \"\"\"\n",
    "        return self.draw(n=1)\n",
    "\n",
    "\n",
    "def approx_cdf_1d(bin_edges, pdf_array):\n",
    "    \"\"\"\n",
    "\n",
    "    :param bin_edges: bin edges of PDF values\n",
    "    :param pdf_array: pdf array of given bins (len(bin_edges)-1)\n",
    "    :return: cdf, interp1d function of cdf, inverse interpolation function\n",
    "    \"\"\"\n",
    "    assert len(bin_edges) == len(pdf_array) + 1\n",
    "    norm_pdf = pdf_array / np.sum(pdf_array)\n",
    "    cdf_array = np.zeros_like(bin_edges)\n",
    "    cdf_array[0] = 0\n",
    "    for i in range(0, len(norm_pdf)):\n",
    "        cdf_array[i + 1] = cdf_array[i] + norm_pdf[i]\n",
    "    cdf_func = interp1d(bin_edges, cdf_array)\n",
    "    cdf_inv_func = interp1d(cdf_array, bin_edges)\n",
    "    return cdf_array, cdf_func, cdf_inv_func"
   ]
  },
  {
   "cell_type": "markdown",
   "id": "6465d9f7",
   "metadata": {},
   "source": [
    "### <span style=\"color:red\">NOTE</span>\n",
    " At this stage, we have two options. We can either draw $N = \\frac{M_{\\text{tot}}}{\\langle m \\rangle}$ samples directly in the above by doing ${\\_}\\texttt{.draw(N)}$, or we can draw *single* samples until we reach (in practice, slightly exceed) our desired total mass. The first method has a fundamental problem, especially pronounced for relatively small $N$: the sample mean is (normally) *distributed* around the poplulation $\\langle m \\rangle$, but it doesn't *equal* it. As a concrete example, $\\langle m \\rangle_{\\text{Salpeter}} = 0.35 M_{\\odot}$, so if we wanted to populate an area having total projected mass $35 M_{\\odot}$, we'd need $N=100$ stars. One such draw yielded $100$ stars with average mass of just $0.25 M_{\\odot}$. This is an illustration of the fact that we will almost certainly under- or over-shoot the total desired mass by the first method. \n",
    " \n",
    "So although the second method is computationally slower, we proceed with it. Steps 2 and 3 are thus rendered superflous, but we keep them above for completeness."
   ]
  },
  {
   "cell_type": "markdown",
   "id": "598e6877",
   "metadata": {},
   "source": [
    "### Step 5: Draw single samples until the accumulated mass reaches the desired mass\n",
    "\n",
    "Note that we can't apply the $\\texttt{normalized}\\_\\texttt{kroupa}$ and $\\texttt{normalized}\\_\\texttt{chabrier}$ pdfs to $m$ the way we do $\\texttt{normalized}\\_\\texttt{salpeter}$, since the former two are piecewise-defined."
   ]
  },
  {
   "cell_type": "code",
   "execution_count": 5,
   "id": "cb134988",
   "metadata": {},
   "outputs": [],
   "source": [
    "def draw(sigma, A, imf):\n",
    "    M_tot = sigma * A\n",
    "    m_accumulated = 0\n",
    "    masses = []\n",
    "    if imf == \"salpeter\":\n",
    "        m = np.linspace(m_min_salpeter, m_max_salpeter, 10000)\n",
    "        salpeter_bin_edges = np.linspace(m_min_salpeter, m_max_salpeter, 10001)\n",
    "        salpeter_pdf = normalized_salpeter(m)\n",
    "        sampler = PDFSampling(salpeter_bin_edges, salpeter_pdf)\n",
    "    elif imf == \"kroupa\":\n",
    "        m = np.linspace(m_min_kroupa, m_max_kroupa, 10000)\n",
    "        kroupa_bin_edges = np.linspace(m_min_kroupa, m_max_kroupa, 10001)\n",
    "        kroupa_pdf = np.array([normalized_kroupa(mass) for mass in m]) # need list first since piecewise def. \n",
    "        sampler = PDFSampling(kroupa_bin_edges, kroupa_pdf)\n",
    "    elif imf == \"chabrier\":\n",
    "        m = np.linspace(m_min_chabrier, m_max_chabrier, 10000)\n",
    "        chabrier_bin_edges = np.linspace(m_min_chabrier, m_max_chabrier, 10001)\n",
    "        chabrier_pdf = np.array([normalized_chabrier(mass) for mass in m]) # need list first since piecewise def. \n",
    "        sampler = PDFSampling(chabrier_bin_edges, chabrier_pdf)\n",
    "    while m_accumulated < M_tot:\n",
    "        mass = sampler.draw()[0]\n",
    "        masses.append(mass)\n",
    "        m_accumulated += mass\n",
    "    return np.array(masses)"
   ]
  },
  {
   "cell_type": "markdown",
   "id": "dad27f49",
   "metadata": {},
   "source": [
    "# An Example \n",
    "\n",
    "Let us study a lens at redshift $z = 0.5$, a source at $z = 1.5$. We can compute the *lensing critical surface density* $\\Sigma_{\\text{cr}}$, and given a value for the convergence $\\kappa$, we can obtain $\\Sigma_{*}$ by $\\kappa\\Sigma_{\\text{cr}}$. \n",
    "\n",
    "Let us consider an area of $1$ milliarcsecond (mas)$^{2}$ on the sky. The idea behind this choice of area is that we cover effectively all the area where multiple images can appear within a strong lensing environment."
   ]
  },
  {
   "cell_type": "code",
   "execution_count": 6,
   "id": "4ade1e45",
   "metadata": {},
   "outputs": [],
   "source": [
    "from lenstronomy.Cosmo.lens_cosmo import LensCosmo\n",
    "\n",
    "lens_cosmo = LensCosmo(z_lens=0.01, z_source=1.5)\n",
    "sigma_crit = lens_cosmo.sigma_crit\n",
    "proj_mass = lens_cosmo.kappa2proj_mass(kappa = 0.5) # M_sol / Mpc ^ 2\n",
    "\n",
    "mpc_in_arcsec = lens_cosmo.phys2arcsec_lens(phys = 1) # arcsec value corresponding to 1 Mpc at lens redshift\n",
    "proj_mass_arcsec = proj_mass / (mpc_in_arcsec) ** 2 # M_sol / arcsec ^ 2"
   ]
  },
  {
   "cell_type": "code",
   "execution_count": 7,
   "id": "8eba062f",
   "metadata": {},
   "outputs": [],
   "source": [
    "salpeter_mass_sample = draw(proj_mass_arcsec, 0.001, \"salpeter\")\n",
    "kroupa_mass_sample = draw(proj_mass_arcsec, 0.001, \"kroupa\")\n",
    "chabrier_mass_sample = draw(proj_mass_arcsec, 0.001, \"chabrier\")"
   ]
  },
  {
   "cell_type": "code",
   "execution_count": 9,
   "id": "4632206c",
   "metadata": {},
   "outputs": [
    {
     "data": {
      "image/png": "[encoded data removed]",
      "text/plain": [
       "<Figure size 640x480 with 1 Axes>"
      ]
     },
     "metadata": {},
     "output_type": "display_data"
    }
   ],
   "source": [
    "import matplotlib.pyplot as plt\n",
    "\n",
    "plt.hist(salpeter_mass_sample, bins = int(np.sqrt(len(salpeter_mass_sample))), density = True)\n",
    "plt.xscale(\"log\")\n",
    "plt.yscale(\"log\")"
   ]
  },
  {
   "cell_type": "code",
   "execution_count": 10,
   "id": "e256b90c",
   "metadata": {},
   "outputs": [
    {
     "data": {
      "image/png": "[encoded data removed]",
      "text/plain": [
       "<Figure size 640x480 with 1 Axes>"
      ]
     },
     "metadata": {},
     "output_type": "display_data"
    }
   ],
   "source": [
    "plt.hist(kroupa_mass_sample, bins = int(np.sqrt(len(kroupa_mass_sample))), density = True)\n",
    "plt.xscale(\"log\")\n",
    "plt.yscale(\"log\")"
   ]
  },
  {
   "cell_type": "code",
   "execution_count": 11,
   "id": "01373573",
   "metadata": {},
   "outputs": [
    {
     "data": {
      "image/png": "[encoded data removed]",
      "text/plain": [
       "<Figure size 640x480 with 1 Axes>"
      ]
     },
     "metadata": {},
     "output_type": "display_data"
    }
   ],
   "source": [
    "plt.hist(chabrier_mass_sample, bins = int(np.sqrt(len(chabrier_mass_sample))), density = True)\n",
    "plt.xscale(\"log\")\n",
    "plt.yscale(\"log\")"
   ]
  }
 ],
 "metadata": {
  "kernelspec": {
   "display_name": "Python 3 (ipykernel)",
   "language": "python",
   "name": "python3"
  },
  "language_info": {
   "codemirror_mode": {
    "name": "ipython",
    "version": 3
   },
   "file_extension": ".py",
   "mimetype": "text/x-python",
   "name": "python",
   "nbconvert_exporter": "python",
   "pygments_lexer": "ipython3",
   "version": "3.10.9"
  }
 },
 "nbformat": 4,
 "nbformat_minor": 5
}
